{
 "cells": [
  {
   "cell_type": "code",
   "execution_count": 135,
   "id": "089444c7",
   "metadata": {},
   "outputs": [],
   "source": [
    "import numpy as np\n",
    "from sklearn.datasets import load_diabetes\n",
    "from sklearn.model_selection import train_test_split\n",
    "from sklearn.metrics import r2_score\n"
   ]
  },
  {
   "cell_type": "code",
   "execution_count": 136,
   "id": "238c1afd",
   "metadata": {},
   "outputs": [],
   "source": [
    "X,y=load_diabetes(return_X_y=True)"
   ]
  },
  {
   "cell_type": "code",
   "execution_count": 137,
   "id": "9168bc23",
   "metadata": {},
   "outputs": [],
   "source": [
    "X_train,X_test,y_train,y_test=train_test_split(X,y,test_size=0.2,random_state=21)"
   ]
  },
  {
   "cell_type": "code",
   "execution_count": 138,
   "id": "ede4e126",
   "metadata": {},
   "outputs": [],
   "source": [
    "from sklearn.linear_model import SGDRegressor"
   ]
  },
  {
   "cell_type": "code",
   "execution_count": 139,
   "id": "960c0983",
   "metadata": {},
   "outputs": [],
   "source": [
    "sgd=SGDRegressor(penalty='l2',\n",
    "    alpha=0.001,learning_rate='constant',max_iter=500,eta0=0.01)"
   ]
  },
  {
   "cell_type": "code",
   "execution_count": 140,
   "id": "4c8e3b9a",
   "metadata": {},
   "outputs": [
    {
     "data": {
      "text/plain": [
       "SGDRegressor(alpha=0.001, learning_rate='constant', max_iter=500)"
      ]
     },
     "execution_count": 140,
     "metadata": {},
     "output_type": "execute_result"
    }
   ],
   "source": [
    "sgd.fit(X_train,y_train)"
   ]
  },
  {
   "cell_type": "code",
   "execution_count": 141,
   "id": "1316e655",
   "metadata": {},
   "outputs": [],
   "source": [
    "ypred=sgd.predict(X_test)"
   ]
  },
  {
   "cell_type": "code",
   "execution_count": 142,
   "id": "8b2ed10a",
   "metadata": {},
   "outputs": [
    {
     "data": {
      "text/plain": [
       "0.3527480833891953"
      ]
     },
     "execution_count": 142,
     "metadata": {},
     "output_type": "execute_result"
    }
   ],
   "source": [
    "r2_score(y_test,ypred)"
   ]
  },
  {
   "cell_type": "code",
   "execution_count": 143,
   "id": "4e43108b",
   "metadata": {},
   "outputs": [],
   "source": [
    "from sklearn.linear_model import Ridge"
   ]
  },
  {
   "cell_type": "code",
   "execution_count": 144,
   "id": "c0b7f26e",
   "metadata": {},
   "outputs": [],
   "source": [
    "r=Ridge( alpha=0.01,max_iter=100,\n",
    "    tol=0.01,\n",
    "    solver='sparse_cg')"
   ]
  },
  {
   "cell_type": "code",
   "execution_count": 145,
   "id": "a3d55c09",
   "metadata": {},
   "outputs": [
    {
     "data": {
      "text/plain": [
       "Ridge(alpha=0.01, max_iter=100, solver='sparse_cg', tol=0.01)"
      ]
     },
     "execution_count": 145,
     "metadata": {},
     "output_type": "execute_result"
    }
   ],
   "source": [
    "r.fit(X_train,y_train)#ridgeregression is all about alpha"
   ]
  },
  {
   "cell_type": "code",
   "execution_count": 146,
   "id": "3dbaeb43",
   "metadata": {},
   "outputs": [],
   "source": [
    "ypred1=r.predict(X_test)"
   ]
  },
  {
   "cell_type": "code",
   "execution_count": 147,
   "id": "938822f3",
   "metadata": {},
   "outputs": [
    {
     "data": {
      "text/plain": [
       "0.4241439592415267"
      ]
     },
     "execution_count": 147,
     "metadata": {},
     "output_type": "execute_result"
    }
   ],
   "source": [
    "r2_score(y_test,ypred1)"
   ]
  },
  {
   "cell_type": "code",
   "execution_count": 148,
   "id": "5af4bc10",
   "metadata": {},
   "outputs": [],
   "source": [
    "#aafnai class batch gradient descent maa  ridge regression"
   ]
  },
  {
   "cell_type": "code",
   "execution_count": 149,
   "id": "ac9f22b4",
   "metadata": {},
   "outputs": [],
   "source": [
    "class GdRidgeRegression:\n",
    "    def __init__(self,epoche,alpha,lr):\n",
    "        self.epoche=epoche\n",
    "        self.alpha=alpha\n",
    "        self.lr=lr\n",
    "    def fit(self,X_train,y_train):\n",
    "        intercept_=0\n",
    "        coef_=np.ones(X_train.shape[1])\n",
    "        theta=np.insert(coef_,0,intercept_)\n",
    "        X_train=np.insert(X_train,0,1,axis=1)\n",
    "        for i in range(self.epoche):\n",
    "            slope=np.dot(X_train.T,X_train).dot(theta)-np.dot(X_train.T,y_train)+self.alpha*theta\n",
    "            theta=theta-self.lr*slope\n",
    "        self.intercept_=theta[0]\n",
    "        self.coef_=theta[1:]\n",
    "    def predict(self,X_test):\n",
    "        return self.intercept_+np.dot(X_test,self.coef_)"
   ]
  },
  {
   "cell_type": "code",
   "execution_count": 150,
   "id": "6b103524",
   "metadata": {},
   "outputs": [],
   "source": [
    "gdr=GdRidgeRegression(500,0.001,0.005)"
   ]
  },
  {
   "cell_type": "code",
   "execution_count": 151,
   "id": "c9c504cf",
   "metadata": {},
   "outputs": [],
   "source": [
    "gdr.fit(X_train,y_train)"
   ]
  },
  {
   "cell_type": "code",
   "execution_count": 152,
   "id": "af1134ab",
   "metadata": {},
   "outputs": [
    {
     "data": {
      "text/plain": [
       "151.77246945671033"
      ]
     },
     "execution_count": 152,
     "metadata": {},
     "output_type": "execute_result"
    }
   ],
   "source": [
    "gdr.intercept_"
   ]
  },
  {
   "cell_type": "code",
   "execution_count": 153,
   "id": "1cf301d7",
   "metadata": {},
   "outputs": [],
   "source": [
    "ypred2=gdr.predict(X_test)"
   ]
  },
  {
   "cell_type": "code",
   "execution_count": 154,
   "id": "cdc6948a",
   "metadata": {},
   "outputs": [
    {
     "data": {
      "text/plain": [
       "0.413063436748194"
      ]
     },
     "execution_count": 154,
     "metadata": {},
     "output_type": "execute_result"
    }
   ],
   "source": [
    "r2_score(y_test,ypred2)"
   ]
  },
  {
   "cell_type": "code",
   "execution_count": null,
   "id": "0a9e8a05",
   "metadata": {},
   "outputs": [],
   "source": []
  }
 ],
 "metadata": {
  "kernelspec": {
   "display_name": "Python 3 (ipykernel)",
   "language": "python",
   "name": "python3"
  },
  "language_info": {
   "codemirror_mode": {
    "name": "ipython",
    "version": 3
   },
   "file_extension": ".py",
   "mimetype": "text/x-python",
   "name": "python",
   "nbconvert_exporter": "python",
   "pygments_lexer": "ipython3",
   "version": "3.9.12"
  }
 },
 "nbformat": 4,
 "nbformat_minor": 5
}
