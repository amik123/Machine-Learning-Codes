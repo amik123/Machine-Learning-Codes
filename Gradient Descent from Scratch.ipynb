{
 "cells": [
  {
   "cell_type": "code",
   "execution_count": 195,
   "id": "62129eca",
   "metadata": {},
   "outputs": [],
   "source": [
    "# Single huda differntiable vanninxa vane double ya badi ko differntiate garada gd bhanincha"
   ]
  },
  {
   "cell_type": "code",
   "execution_count": 196,
   "id": "0cd9f858",
   "metadata": {},
   "outputs": [],
   "source": [
    "import numpy as np\n",
    "from sklearn.datasets import make_regression\n",
    "import matplotlib.pyplot as plt"
   ]
  },
  {
   "cell_type": "code",
   "execution_count": 197,
   "id": "adbd5f72",
   "metadata": {},
   "outputs": [],
   "source": [
    "X,y=make_regression(n_samples=100, n_features=1, n_targets=1,random_state=3,noise=20)"
   ]
  },
  {
   "cell_type": "code",
   "execution_count": 198,
   "id": "33285301",
   "metadata": {},
   "outputs": [
    {
     "data": {
      "text/plain": [
       "(100, 1)"
      ]
     },
     "execution_count": 198,
     "metadata": {},
     "output_type": "execute_result"
    }
   ],
   "source": [
    "X.shape"
   ]
  },
  {
   "cell_type": "code",
   "execution_count": 199,
   "id": "fcdebb9b",
   "metadata": {},
   "outputs": [
    {
     "data": {
      "text/plain": [
       "(100,)"
      ]
     },
     "execution_count": 199,
     "metadata": {},
     "output_type": "execute_result"
    }
   ],
   "source": [
    "y.shape"
   ]
  },
  {
   "cell_type": "code",
   "execution_count": 200,
   "id": "6d0f7714",
   "metadata": {},
   "outputs": [],
   "source": [
    "from sklearn.linear_model import LinearRegression"
   ]
  },
  {
   "cell_type": "code",
   "execution_count": 201,
   "id": "855cc5e6",
   "metadata": {},
   "outputs": [],
   "source": [
    "from sklearn.model_selection import train_test_split"
   ]
  },
  {
   "cell_type": "code",
   "execution_count": 202,
   "id": "9a0cdf8c",
   "metadata": {},
   "outputs": [],
   "source": [
    "X_train,X_test,y_train,y_test=train_test_split(X,y,test_size=0.2,random_state=13)"
   ]
  },
  {
   "cell_type": "code",
   "execution_count": 203,
   "id": "dd0e9a98",
   "metadata": {},
   "outputs": [
    {
     "data": {
      "text/plain": [
       "LinearRegression()"
      ]
     },
     "execution_count": 203,
     "metadata": {},
     "output_type": "execute_result"
    }
   ],
   "source": [
    "lr=LinearRegression()\n",
    "lr.fit(X_train,y_train)\n"
   ]
  },
  {
   "cell_type": "code",
   "execution_count": 204,
   "id": "e93443e6",
   "metadata": {},
   "outputs": [
    {
     "name": "stdout",
     "output_type": "stream",
     "text": [
      "[27.78468526] -2.4156862874806397\n"
     ]
    }
   ],
   "source": [
    "print(lr.coef_,lr.intercept_)"
   ]
  },
  {
   "cell_type": "code",
   "execution_count": 205,
   "id": "3581651e",
   "metadata": {},
   "outputs": [
    {
     "data": {
      "text/plain": [
       "[<matplotlib.lines.Line2D at 0x250f4710df0>]"
      ]
     },
     "execution_count": 205,
     "metadata": {},
     "output_type": "execute_result"
    },
    {
     "data": {
      "image/png": "[encoded data removed]",
      "text/plain": [
       "<Figure size 432x288 with 1 Axes>"
      ]
     },
     "metadata": {
      "needs_background": "light"
     },
     "output_type": "display_data"
    }
   ],
   "source": [
    "plt.scatter(X,y)\n",
    "plt.plot(X_train,lr.predict(X_train),color='red')"
   ]
  },
  {
   "cell_type": "code",
   "execution_count": 213,
   "id": "31890328",
   "metadata": {},
   "outputs": [],
   "source": [
    "class GdRegressor:\n",
    "    def __init__(self,epoche,lr):\n",
    "        self.epoche=epoche\n",
    "        self.lr=lr\n",
    "    def fit(self,X_train,y_train):\n",
    "        self.X_train=X_train\n",
    "        self.y_train=y_train\n",
    "        m=1000\n",
    "        b=-500\n",
    "        for i in range(self.epoche):\n",
    "            x=self.X_train.ravel()\n",
    "            y=self.y_train\n",
    "            loss1=-2*np.sum(y-m*x-b)\n",
    "            loss2=-2*np.sum(y*x-m*x*x-b*x)\n",
    "            b=b-self.lr*loss1\n",
    "            m=m-self.lr*loss2\n",
    "        self.coeff_=m\n",
    "        self.intercept_=b\n",
    "            \n",
    "    def predict(self,X_test):\n",
    "        return self.coeff_*X_test+self.intercept_\n",
    "        "
   ]
  },
  {
   "cell_type": "code",
   "execution_count": 214,
   "id": "2d999631",
   "metadata": {},
   "outputs": [],
   "source": [
    "gd=GdRegressor(100,0.001)"
   ]
  },
  {
   "cell_type": "code",
   "execution_count": 215,
   "id": "d57988cb",
   "metadata": {},
   "outputs": [],
   "source": [
    "gd.fit(X_train,y_train)"
   ]
  },
  {
   "cell_type": "code",
   "execution_count": 216,
   "id": "89af4c94",
   "metadata": {},
   "outputs": [
    {
     "name": "stdout",
     "output_type": "stream",
     "text": [
      "27.784687039429485 -2.4156851099131873\n"
     ]
    }
   ],
   "source": [
    "print(gd.coeff_,gd.intercept_)"
   ]
  },
  {
   "cell_type": "code",
   "execution_count": 219,
   "id": "97d6f605",
   "metadata": {},
   "outputs": [
    {
     "data": {
      "text/plain": [
       "array([-23.77756249, -69.629154  ,  14.9565506 , -45.38407334,\n",
       "        38.87648183,  -4.71463128, -54.19224667,  18.28547008,\n",
       "         9.75252442, -47.5181632 ,  -3.08542027,  52.48993455,\n",
       "        14.64625459,   1.61485089,   8.06734489, -21.16277782,\n",
       "       -12.27255232,  16.37277593,  -6.70860964, -26.69623126])"
      ]
     },
     "execution_count": 219,
     "metadata": {},
     "output_type": "execute_result"
    }
   ],
   "source": [
    "gd.predict(X_test.ravel())"
   ]
  },
  {
   "cell_type": "code",
   "execution_count": 218,
   "id": "4cf845d7",
   "metadata": {},
   "outputs": [
    {
     "data": {
      "text/plain": [
       "array([-23.7775623 , -69.62915087,  14.95654831, -45.38407176,\n",
       "        38.876478  ,  -4.71463231, -54.19224453,  18.28546757,\n",
       "         9.75252247, -47.51816148,  -3.0854214 ,  52.48992986,\n",
       "        14.64625232,   1.61484946,   8.06734304, -21.1627778 ,\n",
       "       -12.27255287,  16.37277355,  -6.70861054, -26.69623088])"
      ]
     },
     "execution_count": 218,
     "metadata": {},
     "output_type": "execute_result"
    }
   ],
   "source": [
    "lr.predict(X_test)"
   ]
  },
  {
   "cell_type": "code",
   "execution_count": 211,
   "id": "274648ba",
   "metadata": {},
   "outputs": [
    {
     "name": "stdout",
     "output_type": "stream",
     "text": [
      "[27.78468526] -2.4156862874806397\n"
     ]
    }
   ],
   "source": [
    "print(lr.coef_,lr.intercept_)"
   ]
  },
  {
   "cell_type": "code",
   "execution_count": null,
   "id": "052ac8e4",
   "metadata": {},
   "outputs": [],
   "source": []
  }
 ],
 "metadata": {
  "kernelspec": {
   "display_name": "Python 3 (ipykernel)",
   "language": "python",
   "name": "python3"
  },
  "language_info": {
   "codemirror_mode": {
    "name": "ipython",
    "version": 3
   },
   "file_extension": ".py",
   "mimetype": "text/x-python",
   "name": "python",
   "nbconvert_exporter": "python",
   "pygments_lexer": "ipython3",
   "version": "3.9.12"
  }
 },
 "nbformat": 4,
 "nbformat_minor": 5
}
