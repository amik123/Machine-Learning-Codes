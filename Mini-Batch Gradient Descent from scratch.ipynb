{
 "cells": [
  {
   "cell_type": "code",
   "execution_count": 1,
   "id": "159f8d65",
   "metadata": {},
   "outputs": [],
   "source": [
    "import numpy as np\n",
    "import random #to generate random array\n",
    "from sklearn.datasets import load_diabetes\n",
    "from sklearn.linear_model import SGDRegressor\n",
    "from sklearn.metrics import r2_score\n",
    "from sklearn.model_selection import train_test_split"
   ]
  },
  {
   "cell_type": "code",
   "execution_count": 2,
   "id": "571b5256",
   "metadata": {},
   "outputs": [],
   "source": [
    "X,y=load_diabetes(return_X_y=True)"
   ]
  },
  {
   "cell_type": "code",
   "execution_count": 3,
   "id": "d965845d",
   "metadata": {},
   "outputs": [],
   "source": [
    "X_train,X_test,y_train,y_test=train_test_split(X,y,test_size=0.2,random_state=13)"
   ]
  },
  {
   "cell_type": "code",
   "execution_count": 4,
   "id": "45466078",
   "metadata": {},
   "outputs": [],
   "source": [
    "SGD=SGDRegressor( loss='squared_error',max_iter=1000, shuffle=True)"
   ]
  },
  {
   "cell_type": "code",
   "execution_count": 5,
   "id": "51de1715",
   "metadata": {},
   "outputs": [
    {
     "name": "stderr",
     "output_type": "stream",
     "text": [
      "C:\\Users\\user\\anaconda3\\lib\\site-packages\\sklearn\\linear_model\\_stochastic_gradient.py:1503: ConvergenceWarning: Maximum number of iteration reached before convergence. Consider increasing max_iter to improve the fit.\n",
      "  warnings.warn(\n"
     ]
    },
    {
     "data": {
      "text/plain": [
       "SGDRegressor()"
      ]
     },
     "execution_count": 5,
     "metadata": {},
     "output_type": "execute_result"
    }
   ],
   "source": [
    "SGD.fit(X_train,y_train)"
   ]
  },
  {
   "cell_type": "code",
   "execution_count": 6,
   "id": "1b397707",
   "metadata": {},
   "outputs": [
    {
     "data": {
      "text/plain": [
       "array([150.24478839])"
      ]
     },
     "execution_count": 6,
     "metadata": {},
     "output_type": "execute_result"
    }
   ],
   "source": [
    "SGD.intercept_"
   ]
  },
  {
   "cell_type": "code",
   "execution_count": 7,
   "id": "dec10d52",
   "metadata": {},
   "outputs": [],
   "source": [
    "ypred=SGD.predict(X_test)"
   ]
  },
  {
   "cell_type": "code",
   "execution_count": 8,
   "id": "591cad95",
   "metadata": {},
   "outputs": [
    {
     "data": {
      "text/plain": [
       "0.3632001362149393"
      ]
     },
     "execution_count": 8,
     "metadata": {},
     "output_type": "execute_result"
    }
   ],
   "source": [
    "r2_score(y_test,ypred)"
   ]
  },
  {
   "cell_type": "code",
   "execution_count": 152,
   "id": "50a4a27f",
   "metadata": {},
   "outputs": [],
   "source": [
    "class mbsgdregressor:\n",
    "    def __init__(self,lr,epoche,batch_size):\n",
    "        self.lr=lr\n",
    "        self.batch_size=batch_size\n",
    "        self.epoche=epoche\n",
    "    def fit(self,X_train,y_train):\n",
    "        intercept_=0\n",
    "        coeff_=np.ones(X_train.shape[1])\n",
    "        for i in range(self.epoche):\n",
    "            for j in range(int(X_train.shape[0]/self.batch_size)):\n",
    "                idx=random.sample(range(X_train.shape[0]),self.batch_size)\n",
    "                yhat=intercept_+np.dot(X_train[idx],coeff_)\n",
    "                loss1=-2*np.mean(y_train[idx]-yhat)\n",
    "                intercept_=intercept_-self.lr*loss1\n",
    "                loss2=-2*np.dot((y_train[idx]-yhat),X_train[idx])/self.batch_size\n",
    "                coeff_=coeff_-self.lr*loss2\n",
    "        self.intercept_=intercept_\n",
    "        self.coeff_=coeff_\n",
    "    def predict(self,X_test):\n",
    "        return self.intercept_+np.dot(X_test,self.coeff_)"
   ]
  },
  {
   "cell_type": "code",
   "execution_count": 220,
   "id": "68cc83c4",
   "metadata": {},
   "outputs": [],
   "source": [
    "mbsgd=mbsgdregressor(0.1,50,10)"
   ]
  },
  {
   "cell_type": "code",
   "execution_count": 221,
   "id": "b3b21f6b",
   "metadata": {},
   "outputs": [],
   "source": [
    "mbsgd.fit(X_train,y_train)"
   ]
  },
  {
   "cell_type": "code",
   "execution_count": 222,
   "id": "ecd622ff",
   "metadata": {},
   "outputs": [
    {
     "data": {
      "text/plain": [
       "153.64665255621642"
      ]
     },
     "execution_count": 222,
     "metadata": {},
     "output_type": "execute_result"
    }
   ],
   "source": [
    "mbsgd.intercept_"
   ]
  },
  {
   "cell_type": "code",
   "execution_count": 223,
   "id": "4b432f12",
   "metadata": {},
   "outputs": [
    {
     "data": {
      "text/plain": [
       "array([  36.14017882,  -82.70642037,  379.32237187,  242.58705265,\n",
       "         19.92989927,  -20.09477776, -174.48974106,  143.54303944,\n",
       "        292.1149131 ,  163.17817824])"
      ]
     },
     "execution_count": 223,
     "metadata": {},
     "output_type": "execute_result"
    }
   ],
   "source": [
    "mbsgd.coeff_"
   ]
  },
  {
   "cell_type": "code",
   "execution_count": 224,
   "id": "4b1ba5a2",
   "metadata": {},
   "outputs": [],
   "source": [
    "ypred=mbsgd.predict(X_test)"
   ]
  },
  {
   "cell_type": "code",
   "execution_count": 225,
   "id": "7409e0ef",
   "metadata": {},
   "outputs": [
    {
     "data": {
      "text/plain": [
       "0.3925365511026776"
      ]
     },
     "execution_count": 225,
     "metadata": {},
     "output_type": "execute_result"
    }
   ],
   "source": [
    "r2_score(y_test,ypred)"
   ]
  },
  {
   "cell_type": "code",
   "execution_count": 85,
   "id": "ca24a667",
   "metadata": {},
   "outputs": [
    {
     "data": {
      "text/plain": [
       "35"
      ]
     },
     "execution_count": 85,
     "metadata": {},
     "output_type": "execute_result"
    }
   ],
   "source": [
    "int(X_train.shape[0]/mbsgd.batch_size)"
   ]
  },
  {
   "cell_type": "code",
   "execution_count": 88,
   "id": "08fb3356",
   "metadata": {},
   "outputs": [
    {
     "data": {
      "text/plain": [
       "array([[ 0.03444337,  0.05068012, -0.00189471, -0.01255635,  0.03833367,\n",
       "         0.01371725,  0.0780932 , -0.03949338,  0.00455189, -0.09634616],\n",
       "       [-0.00551455,  0.05068012, -0.01159501,  0.01154374, -0.02220825,\n",
       "        -0.01540556, -0.02131102, -0.00259226,  0.0110081 ,  0.06933812],\n",
       "       [-0.02004471, -0.04464164, -0.0547075 , -0.0538708 , -0.06623874,\n",
       "        -0.05736745,  0.01182372, -0.03949338, -0.07408887, -0.0052198 ],\n",
       "       [ 0.11072668,  0.05068012,  0.00672779,  0.0287581 , -0.02771206,\n",
       "        -0.0072637 , -0.04708248,  0.03430886,  0.00200784,  0.07762233],\n",
       "       [ 0.0090156 ,  0.05068012,  0.01858372,  0.03908671,  0.01769438,\n",
       "         0.01058576,  0.019187  , -0.00259226,  0.01630495, -0.01764613],\n",
       "       [-0.03094232, -0.04464164,  0.00564998, -0.00911348,  0.01907033,\n",
       "         0.00682798,  0.07441156, -0.03949338, -0.04118039, -0.04249877],\n",
       "       [ 0.01991321, -0.04464164,  0.00457217,  0.04597245, -0.01808039,\n",
       "        -0.05454912,  0.06336665, -0.03949338,  0.02866072,  0.06105391],\n",
       "       [ 0.04534098, -0.04464164,  0.03906215,  0.04597245,  0.00668676,\n",
       "        -0.02417372,  0.00814208, -0.01255556,  0.06432823,  0.0569118 ],\n",
       "       [-0.02004471, -0.04464164,  0.08540807, -0.03665645,  0.09199583,\n",
       "         0.08949918, -0.06180903,  0.14501222,  0.08094791,  0.05276969],\n",
       "       [ 0.05987114, -0.04464164, -0.00081689, -0.08485664,  0.0754844 ,\n",
       "         0.07947843,  0.00446045,  0.03430886,  0.02337484,  0.02791705]])"
      ]
     },
     "execution_count": 88,
     "metadata": {},
     "output_type": "execute_result"
    }
   ],
   "source": [
    "idx=random.sample(range(X_train.shape[0]),mbsgd.batch_size)\n",
    "X_train[idx]\n"
   ]
  },
  {
   "cell_type": "code",
   "execution_count": null,
   "id": "e60c85d4",
   "metadata": {},
   "outputs": [],
   "source": []
  }
 ],
 "metadata": {
  "kernelspec": {
   "display_name": "Python 3 (ipykernel)",
   "language": "python",
   "name": "python3"
  },
  "language_info": {
   "codemirror_mode": {
    "name": "ipython",
    "version": 3
   },
   "file_extension": ".py",
   "mimetype": "text/x-python",
   "name": "python",
   "nbconvert_exporter": "python",
   "pygments_lexer": "ipython3",
   "version": "3.9.12"
  }
 },
 "nbformat": 4,
 "nbformat_minor": 5
}
