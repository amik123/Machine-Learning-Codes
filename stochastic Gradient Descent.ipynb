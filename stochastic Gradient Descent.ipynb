{
 "cells": [
  {
   "cell_type": "code",
   "execution_count": 4,
   "id": "159f8d65",
   "metadata": {},
   "outputs": [],
   "source": [
    "import numpy as np\n",
    "from sklearn.datasets import load_diabetes\n",
    "from sklearn.linear_model import SGDRegressor\n",
    "from sklearn.metrics import r2_score\n",
    "from sklearn.model_selection import train_test_split"
   ]
  },
  {
   "cell_type": "code",
   "execution_count": 2,
   "id": "571b5256",
   "metadata": {},
   "outputs": [],
   "source": [
    "X,y=load_diabetes(return_X_y=True)"
   ]
  },
  {
   "cell_type": "code",
   "execution_count": 7,
   "id": "d965845d",
   "metadata": {},
   "outputs": [],
   "source": [
    "X_train,X_test,y_train,y_test=train_test_split(X,y,test_size=0.2,random_state=13)"
   ]
  },
  {
   "cell_type": "code",
   "execution_count": 19,
   "id": "45466078",
   "metadata": {},
   "outputs": [],
   "source": [
    "SGD=SGDRegressor( loss='squared_error',max_iter=1000, shuffle=True)"
   ]
  },
  {
   "cell_type": "code",
   "execution_count": 20,
   "id": "51de1715",
   "metadata": {},
   "outputs": [
    {
     "name": "stderr",
     "output_type": "stream",
     "text": [
      "C:\\Users\\user\\anaconda3\\lib\\site-packages\\sklearn\\linear_model\\_stochastic_gradient.py:1503: ConvergenceWarning: Maximum number of iteration reached before convergence. Consider increasing max_iter to improve the fit.\n",
      "  warnings.warn(\n"
     ]
    },
    {
     "data": {
      "text/plain": [
       "SGDRegressor()"
      ]
     },
     "execution_count": 20,
     "metadata": {},
     "output_type": "execute_result"
    }
   ],
   "source": [
    "SGD.fit(X_train,y_train)"
   ]
  },
  {
   "cell_type": "code",
   "execution_count": 35,
   "id": "1b397707",
   "metadata": {},
   "outputs": [
    {
     "data": {
      "text/plain": [
       "array([150.27070398])"
      ]
     },
     "execution_count": 35,
     "metadata": {},
     "output_type": "execute_result"
    }
   ],
   "source": [
    "SGD.intercept_"
   ]
  },
  {
   "cell_type": "code",
   "execution_count": 21,
   "id": "dec10d52",
   "metadata": {},
   "outputs": [],
   "source": [
    "ypred=SGD.predict(X_test)"
   ]
  },
  {
   "cell_type": "code",
   "execution_count": 22,
   "id": "591cad95",
   "metadata": {},
   "outputs": [
    {
     "data": {
      "text/plain": [
       "0.3634353558789384"
      ]
     },
     "execution_count": 22,
     "metadata": {},
     "output_type": "execute_result"
    }
   ],
   "source": [
    "r2_score(y_test,ypred)"
   ]
  },
  {
   "cell_type": "code",
   "execution_count": 93,
   "id": "50a4a27f",
   "metadata": {},
   "outputs": [],
   "source": [
    "class sgdregressor:\n",
    "    def __init__(self,lr,epoche):\n",
    "        self.lr=lr\n",
    "        self.epoche=epoche\n",
    "    def fit(self,X_train,y_train):\n",
    "        intercept_=0\n",
    "        coeff_=np.ones(X_train.shape[1])\n",
    "        for i in range(self.epoche):\n",
    "            for j in range (X_train.shape[0]):\n",
    "                ref=np.random.randint(0,X_train.shape[0])\n",
    "                yhat=intercept_+np.dot(coeff_,X_train[ref])\n",
    "                dloss=-2*(y_train[ref]-yhat)\n",
    "                intercept_=intercept_-self.lr*dloss\n",
    "                \n",
    "                dloss1=-2*np.dot((y_train[ref]-yhat),X_train[ref])\n",
    "                coeff_=coeff_-self.lr*dloss1\n",
    "        self.intercept_=intercept_\n",
    "        self.coeff_=coeff_\n",
    "\n",
    "       \n",
    "    def predict(self,X_test):\n",
    "        return self.intercept_+np.dot(X_test,self.coeff_)"
   ]
  },
  {
   "cell_type": "code",
   "execution_count": 94,
   "id": "10d162bf",
   "metadata": {},
   "outputs": [],
   "source": [
    "sgd=sgdregressor(0.01,100)"
   ]
  },
  {
   "cell_type": "code",
   "execution_count": 95,
   "id": "f5c910d1",
   "metadata": {},
   "outputs": [],
   "source": [
    "sgd.fit(X_train,y_train)"
   ]
  },
  {
   "cell_type": "code",
   "execution_count": 96,
   "id": "a394e353",
   "metadata": {},
   "outputs": [
    {
     "data": {
      "text/plain": [
       "151.09390566081413"
      ]
     },
     "execution_count": 96,
     "metadata": {},
     "output_type": "execute_result"
    }
   ],
   "source": [
    "sgd.intercept_"
   ]
  },
  {
   "cell_type": "code",
   "execution_count": 97,
   "id": "db930b31",
   "metadata": {},
   "outputs": [
    {
     "data": {
      "text/plain": [
       "array([   5.84892949, -170.72188345,  503.08431854,  290.91298029,\n",
       "        -26.07377846,  -89.24945903, -203.60878943,  132.98660124,\n",
       "        376.6229966 ,  165.74843389])"
      ]
     },
     "execution_count": 97,
     "metadata": {},
     "output_type": "execute_result"
    }
   ],
   "source": [
    "sgd.coeff_"
   ]
  },
  {
   "cell_type": "code",
   "execution_count": 98,
   "id": "d715800e",
   "metadata": {},
   "outputs": [
    {
     "data": {
      "text/plain": [
       "0.3790215300977462"
      ]
     },
     "execution_count": 98,
     "metadata": {},
     "output_type": "execute_result"
    }
   ],
   "source": [
    "r2_score(y_test,sgd.predict(X_test))"
   ]
  },
  {
   "cell_type": "code",
   "execution_count": 56,
   "id": "c3d9feea",
   "metadata": {},
   "outputs": [
    {
     "data": {
      "text/plain": [
       "array([  42.85186899,  -33.8342236 ,  273.69779561,  184.0754043 ,\n",
       "         44.94267516,   20.46456779, -140.93476489,  134.21574827,\n",
       "        221.84086164,  143.00904431])"
      ]
     },
     "execution_count": 56,
     "metadata": {},
     "output_type": "execute_result"
    }
   ],
   "source": [
    "SGD.coef_"
   ]
  },
  {
   "cell_type": "code",
   "execution_count": null,
   "id": "ef2ca212",
   "metadata": {},
   "outputs": [],
   "source": []
  }
 ],
 "metadata": {
  "kernelspec": {
   "display_name": "Python 3 (ipykernel)",
   "language": "python",
   "name": "python3"
  },
  "language_info": {
   "codemirror_mode": {
    "name": "ipython",
    "version": 3
   },
   "file_extension": ".py",
   "mimetype": "text/x-python",
   "name": "python",
   "nbconvert_exporter": "python",
   "pygments_lexer": "ipython3",
   "version": "3.9.12"
  }
 },
 "nbformat": 4,
 "nbformat_minor": 5
}
