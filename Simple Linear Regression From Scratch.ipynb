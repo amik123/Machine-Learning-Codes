{
 "cells": [
  {
   "cell_type": "code",
   "execution_count": 96,
   "id": "8b54d8fb",
   "metadata": {},
   "outputs": [],
   "source": [
    "import pandas as pd\n",
    "import numpy as np\n",
    "from sklearn.model_selection import train_test_split\n"
   ]
  },
  {
   "cell_type": "code",
   "execution_count": 97,
   "id": "1e87585d",
   "metadata": {},
   "outputs": [
    {
     "data": {
      "text/html": [
       "<div>\n",
       "<style scoped>\n",
       "    .dataframe tbody tr th:only-of-type {\n",
       "        vertical-align: middle;\n",
       "    }\n",
       "\n",
       "    .dataframe tbody tr th {\n",
       "        vertical-align: top;\n",
       "    }\n",
       "\n",
       "    .dataframe thead th {\n",
       "        text-align: right;\n",
       "    }\n",
       "</style>\n",
       "<table border=\"1\" class=\"dataframe\">\n",
       "  <thead>\n",
       "    <tr style=\"text-align: right;\">\n",
       "      <th></th>\n",
       "      <th>cgpa</th>\n",
       "      <th>package</th>\n",
       "    </tr>\n",
       "  </thead>\n",
       "  <tbody>\n",
       "    <tr>\n",
       "      <th>0</th>\n",
       "      <td>6.89</td>\n",
       "      <td>3.26</td>\n",
       "    </tr>\n",
       "    <tr>\n",
       "      <th>1</th>\n",
       "      <td>5.12</td>\n",
       "      <td>1.98</td>\n",
       "    </tr>\n",
       "    <tr>\n",
       "      <th>2</th>\n",
       "      <td>7.82</td>\n",
       "      <td>3.25</td>\n",
       "    </tr>\n",
       "    <tr>\n",
       "      <th>3</th>\n",
       "      <td>7.42</td>\n",
       "      <td>3.67</td>\n",
       "    </tr>\n",
       "    <tr>\n",
       "      <th>4</th>\n",
       "      <td>6.94</td>\n",
       "      <td>3.57</td>\n",
       "    </tr>\n",
       "  </tbody>\n",
       "</table>\n",
       "</div>"
      ],
      "text/plain": [
       "   cgpa  package\n",
       "0  6.89     3.26\n",
       "1  5.12     1.98\n",
       "2  7.82     3.25\n",
       "3  7.42     3.67\n",
       "4  6.94     3.57"
      ]
     },
     "execution_count": 97,
     "metadata": {},
     "output_type": "execute_result"
    }
   ],
   "source": [
    "df=pd.read_csv('placement (1).csv')\n",
    "df.head()"
   ]
  },
  {
   "cell_type": "code",
   "execution_count": 98,
   "id": "64140b67",
   "metadata": {},
   "outputs": [],
   "source": [
    "class LinearRegression:\n",
    "    \n",
    "    def __init__(self,X_train,y_train):\n",
    "        self.X_train=X_train.values\n",
    "        self.y_train=y_train.values\n",
    "    def fit(self):\n",
    "        num=0\n",
    "        den=0\n",
    "        for i in range(X_train.size):\n",
    "            num=num+(self.y_train[i]-self.y_train.mean())*(self.X_train[i]-self.X_train.mean())\n",
    "            den=den+(self.X_train[i]-self.X_train.mean())*(self.X_train[i]-self.X_train.mean())\n",
    "        m=num/den\n",
    "        b=self.y_train.mean()-m*self.X_train.mean()\n",
    "        self.m=m\n",
    "        self.b=b\n",
    "        return m,b\n",
    "    def predict(self,x):\n",
    "        y=self.m*x+self.b\n",
    "        print(y)\n",
    "            \n",
    "    "
   ]
  },
  {
   "cell_type": "code",
   "execution_count": 99,
   "id": "65518649",
   "metadata": {},
   "outputs": [],
   "source": [
    "X_train,X_test,y_train,y_test=train_test_split(df.iloc[:,0],df.iloc[:,-1],test_size=0.2,random_state=2)"
   ]
  },
  {
   "cell_type": "code",
   "execution_count": 100,
   "id": "3c592a7c",
   "metadata": {},
   "outputs": [
    {
     "data": {
      "text/plain": [
       "3.0039375"
      ]
     },
     "execution_count": 100,
     "metadata": {},
     "output_type": "execute_result"
    }
   ],
   "source": [
    "y_train.mean()"
   ]
  },
  {
   "cell_type": "code",
   "execution_count": 101,
   "id": "4dc5f463",
   "metadata": {},
   "outputs": [
    {
     "name": "stdout",
     "output_type": "stream",
     "text": [
      "(0.5579519734250721, -0.8961119222429152)\n"
     ]
    }
   ],
   "source": [
    "lr=LinearRegression(X_train,y_train)\n",
    "print(lr.fit())\n"
   ]
  },
  {
   "cell_type": "code",
   "execution_count": 102,
   "id": "daa8b0e9",
   "metadata": {},
   "outputs": [
    {
     "name": "stdout",
     "output_type": "stream",
     "text": [
      "112    3.891116\n",
      "29     3.093245\n",
      "182    2.384646\n",
      "199    2.574349\n",
      "193    1.653729\n",
      "85     1.776478\n",
      "10     2.072193\n",
      "54     2.931439\n",
      "115    3.762787\n",
      "35     2.937018\n",
      "12     4.091979\n",
      "92     3.511709\n",
      "13     2.970495\n",
      "126    2.401384\n",
      "174    3.188097\n",
      "2      3.467073\n",
      "44     1.943864\n",
      "3      3.243892\n",
      "113    2.976075\n",
      "14     3.416857\n",
      "23     2.557611\n",
      "25     3.165778\n",
      "6      2.858905\n",
      "134    3.121142\n",
      "165    3.684674\n",
      "173    2.870064\n",
      "45     3.494970\n",
      "65     3.344323\n",
      "48     3.919014\n",
      "122    1.960602\n",
      "178    3.651197\n",
      "64     3.210415\n",
      "9      3.740469\n",
      "57     2.786371\n",
      "78     2.780792\n",
      "71     3.271789\n",
      "128    3.528447\n",
      "176    2.613406\n",
      "131    2.658042\n",
      "53     2.713837\n",
      "Name: cgpa, dtype: float64\n"
     ]
    }
   ],
   "source": [
    "lr.predict(X_test)"
   ]
  },
  {
   "cell_type": "code",
   "execution_count": 103,
   "id": "70f9c120",
   "metadata": {},
   "outputs": [
    {
     "data": {
      "text/plain": [
       "112    4.10\n",
       "29     3.49\n",
       "182    2.08\n",
       "199    2.33\n",
       "193    1.94\n",
       "85     1.48\n",
       "10     1.86\n",
       "54     3.09\n",
       "115    4.21\n",
       "35     2.87\n",
       "12     3.65\n",
       "92     4.00\n",
       "13     2.89\n",
       "126    2.60\n",
       "174    2.99\n",
       "2      3.25\n",
       "44     1.86\n",
       "3      3.67\n",
       "113    2.37\n",
       "14     3.42\n",
       "23     2.48\n",
       "25     3.65\n",
       "6      2.60\n",
       "134    2.83\n",
       "165    4.08\n",
       "173    2.56\n",
       "45     3.58\n",
       "65     3.81\n",
       "48     4.09\n",
       "122    2.01\n",
       "178    3.63\n",
       "64     2.92\n",
       "9      3.51\n",
       "57     1.94\n",
       "78     2.21\n",
       "71     3.34\n",
       "128    3.34\n",
       "176    3.23\n",
       "131    2.01\n",
       "53     2.61\n",
       "Name: package, dtype: float64"
      ]
     },
     "execution_count": 103,
     "metadata": {},
     "output_type": "execute_result"
    }
   ],
   "source": [
    "y_test"
   ]
  },
  {
   "cell_type": "code",
   "execution_count": null,
   "id": "4bafea41",
   "metadata": {},
   "outputs": [],
   "source": []
  }
 ],
 "metadata": {
  "kernelspec": {
   "display_name": "Python 3 (ipykernel)",
   "language": "python",
   "name": "python3"
  },
  "language_info": {
   "codemirror_mode": {
    "name": "ipython",
    "version": 3
   },
   "file_extension": ".py",
   "mimetype": "text/x-python",
   "name": "python",
   "nbconvert_exporter": "python",
   "pygments_lexer": "ipython3",
   "version": "3.9.12"
  }
 },
 "nbformat": 4,
 "nbformat_minor": 5
}
