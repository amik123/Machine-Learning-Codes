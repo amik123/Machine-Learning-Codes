{
 "cells": [
  {
   "cell_type": "code",
   "execution_count": 445,
   "id": "63be491a",
   "metadata": {},
   "outputs": [],
   "source": [
    "import numpy as np\n",
    "import pandas as pd\n",
    "from sklearn.datasets import load_diabetes\n",
    "from sklearn.linear_model import LinearRegression\n",
    "from sklearn.model_selection import train_test_split\n",
    "from sklearn.metrics import r2_score"
   ]
  },
  {
   "cell_type": "code",
   "execution_count": 446,
   "id": "9c294d64",
   "metadata": {},
   "outputs": [],
   "source": [
    "# pandas use garera esko dataframe banauna sikeko matra ho\n",
    "# X=load_diabetes(return_X_y=False, as_frame=True)\n",
    "# df=X['data']\n",
    "# df['target']=X['target']"
   ]
  },
  {
   "cell_type": "code",
   "execution_count": 447,
   "id": "141d9127",
   "metadata": {},
   "outputs": [],
   "source": [
    "X,y=load_diabetes(return_X_y=True)"
   ]
  },
  {
   "cell_type": "code",
   "execution_count": 448,
   "id": "be0039c7",
   "metadata": {},
   "outputs": [],
   "source": [
    "X_train,X_test,y_train,y_test=train_test_split(X,y,test_size=0.2,random_state=2)"
   ]
  },
  {
   "cell_type": "code",
   "execution_count": 449,
   "id": "f010c7e3",
   "metadata": {},
   "outputs": [],
   "source": [
    "lr=LinearRegression()\n",
    "lr.fit(X_train,y_train)\n",
    "ypred1=lr.predict(X_test)\n"
   ]
  },
  {
   "cell_type": "code",
   "execution_count": 450,
   "id": "38be2714",
   "metadata": {},
   "outputs": [
    {
     "name": "stdout",
     "output_type": "stream",
     "text": [
      "[  -9.16088483 -205.46225988  516.68462383  340.62734108 -895.54360867\n",
      "  561.21453306  153.88478595  126.73431596  861.12139955   52.41982836]\n"
     ]
    }
   ],
   "source": [
    "print(lr.coef_)"
   ]
  },
  {
   "cell_type": "code",
   "execution_count": 451,
   "id": "14ac14b3",
   "metadata": {},
   "outputs": [
    {
     "name": "stdout",
     "output_type": "stream",
     "text": [
      "151.88334520854633\n"
     ]
    }
   ],
   "source": [
    "print(lr.intercept_)"
   ]
  },
  {
   "cell_type": "code",
   "execution_count": 452,
   "id": "f1fe11d6",
   "metadata": {},
   "outputs": [
    {
     "data": {
      "text/plain": [
       "0.4399387660024645"
      ]
     },
     "execution_count": 452,
     "metadata": {},
     "output_type": "execute_result"
    }
   ],
   "source": [
    "r2_score(y_test,lr.predict(X_test))"
   ]
  },
  {
   "cell_type": "code",
   "execution_count": 453,
   "id": "b03d7ff2",
   "metadata": {},
   "outputs": [],
   "source": [
    "class GradientDescent:\n",
    "    def __init__(self,epoche,lr):\n",
    "        self.epoche=epoche\n",
    "        self.lr=lr\n",
    "    def fit(self,X_train,y_train):\n",
    "        self.X_train=X_train\n",
    "        self.y_train=y_train\n",
    "        intercept_=0\n",
    "        coeff_=np.ones(self.X_train.shape[1])\n",
    "        for i in range(self.epoche):\n",
    "            yhat=intercept_+np.dot(self.X_train,coeff_)\n",
    "            dloss=-2*np.mean(self.y_train-yhat)\n",
    "            intercept_=intercept_-self.lr*dloss\n",
    "            \n",
    "            dloss1=-2*np.dot((self.y_train-yhat),self.X_train)/self.X_train.shape[0]\n",
    "            coeff_=coeff_-self.lr*dloss1\n",
    "        self.intercept_=intercept_\n",
    "        self.coeff_=coeff_\n",
    " \n",
    "    def predict(self,X_test):\n",
    "        return self.intercept_+np.dot(X_test,self.coeff_)"
   ]
  },
  {
   "cell_type": "code",
   "execution_count": 454,
   "id": "d32daca5",
   "metadata": {},
   "outputs": [],
   "source": [
    "gd=GradientDescent(10000,0.5)"
   ]
  },
  {
   "cell_type": "code",
   "execution_count": 455,
   "id": "dc62b809",
   "metadata": {},
   "outputs": [],
   "source": [
    "gd.fit(X_train,y_train)"
   ]
  },
  {
   "cell_type": "code",
   "execution_count": 456,
   "id": "695efb52",
   "metadata": {},
   "outputs": [
    {
     "data": {
      "text/plain": [
       "151.8984333923079"
      ]
     },
     "execution_count": 456,
     "metadata": {},
     "output_type": "execute_result"
    }
   ],
   "source": [
    "gd.intercept_"
   ]
  },
  {
   "cell_type": "code",
   "execution_count": 457,
   "id": "9f812e67",
   "metadata": {},
   "outputs": [
    {
     "data": {
      "text/plain": [
       "array([  -7.54454219, -200.23133662,  532.12033726,  338.20130392,\n",
       "       -180.53895531,  -15.51504735, -154.42376774,   53.85133029,\n",
       "        589.032014  ,   53.5864191 ])"
      ]
     },
     "execution_count": 457,
     "metadata": {},
     "output_type": "execute_result"
    }
   ],
   "source": [
    "gd.coeff_"
   ]
  },
  {
   "cell_type": "code",
   "execution_count": 458,
   "id": "597765ec",
   "metadata": {},
   "outputs": [],
   "source": [
    "y_pred=gd.predict(X_test)\n"
   ]
  },
  {
   "cell_type": "code",
   "execution_count": 459,
   "id": "36c4d33a",
   "metadata": {},
   "outputs": [
    {
     "data": {
      "text/plain": [
       "0.4429345231168329"
      ]
     },
     "execution_count": 459,
     "metadata": {},
     "output_type": "execute_result"
    }
   ],
   "source": [
    "r2_score(y_test,y_pred)"
   ]
  },
  {
   "cell_type": "code",
   "execution_count": 460,
   "id": "c23e94a8",
   "metadata": {},
   "outputs": [
    {
     "data": {
      "text/plain": [
       "(10,)"
      ]
     },
     "execution_count": 460,
     "metadata": {},
     "output_type": "execute_result"
    }
   ],
   "source": [
    "gd.coeff_.shape"
   ]
  },
  {
   "cell_type": "code",
   "execution_count": 461,
   "id": "6b4e72de",
   "metadata": {},
   "outputs": [
    {
     "data": {
      "text/plain": [
       "(353, 10)"
      ]
     },
     "execution_count": 461,
     "metadata": {},
     "output_type": "execute_result"
    }
   ],
   "source": [
    "X_train.shape"
   ]
  },
  {
   "cell_type": "code",
   "execution_count": null,
   "id": "57689c80",
   "metadata": {},
   "outputs": [],
   "source": []
  }
 ],
 "metadata": {
  "kernelspec": {
   "display_name": "Python 3 (ipykernel)",
   "language": "python",
   "name": "python3"
  },
  "language_info": {
   "codemirror_mode": {
    "name": "ipython",
    "version": 3
   },
   "file_extension": ".py",
   "mimetype": "text/x-python",
   "name": "python",
   "nbconvert_exporter": "python",
   "pygments_lexer": "ipython3",
   "version": "3.9.12"
  }
 },
 "nbformat": 4,
 "nbformat_minor": 5
}
