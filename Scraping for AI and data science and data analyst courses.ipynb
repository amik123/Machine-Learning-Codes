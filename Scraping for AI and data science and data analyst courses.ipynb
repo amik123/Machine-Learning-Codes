{
 "cells": [
  {
   "cell_type": "code",
   "execution_count": 9,
   "id": "abe5b46a",
   "metadata": {},
   "outputs": [],
   "source": [
    "import pandas as pd\n",
    "import numpy as np\n",
    "from bs4 import BeautifulSoup\n",
    "import requests\n",
    "import re"
   ]
  },
  {
   "cell_type": "code",
   "execution_count": 10,
   "id": "806bf7dd",
   "metadata": {},
   "outputs": [],
   "source": [
    "url='https://www.myguide.de/en/degree-programmes/'\n",
    "headers={'User-Agent':'Mozilla/5.0 (Windows NT 6.3; Win 64 ; x64) Apple WeKit /537.36(KHTML , like Gecko) Chrome/80.0.3987.162 Safari/537.36'}\n",
    "webpage=requests.get(url,headers=headers).text\n",
    "soup=BeautifulSoup(webpage, 'lxml')\n",
    "search_terms = ['Artificial Intelligence', 'Data Science', 'Data Analyst']\n",
    "# for i in soup.find_all('li',class_='qa-hsk-result-item u-list-unset mb-2'):\n",
    "# #     if i.text in search_terms:\n",
    "#     print(i.find('a').get('href'))\n",
    "    \n",
    "        "
   ]
  },
  {
   "cell_type": "code",
   "execution_count": 16,
   "id": "cac2627b",
   "metadata": {},
   "outputs": [
    {
     "data": {
      "text/plain": [
       "'<li class=\"qa-hsk-result-item u-list-unset mb-2\" tabindex=\"-1\">\\n <!-- -->\\n <!-- -->\\n <div class=\"cards-item\" data-v-67e8c4d8=\"\" id=\"w29657\">\\n  <article class=\"u-full-width p-2 p-3@lg\" data-v-4054e080=\"\" data-v-67e8c4d8=\"\">\\n   <div class=\"cards__header u-flex u-full-width u-gap-1 mb-1\" data-v-4054e080=\"\">\\n    <a class=\"card-link\" data-v-2b7e394c=\"\" data-v-4054e080=\"\" href=\"/en/degree-programmes/detail/technical-university-of-darmstadt-autonomous-systems-and-robots-w29657/?hec-id=w29657\">\\n     <!-- -->\\n     <h3 class=\"h5 m-0 u-display-inline-block@md\" data-v-4054e080=\"\">\\n      -Autonomous systems and robots\\n     </h3>\\n     <!-- -->\\n     <!-- -->\\n    </a>\\n    <div class=\"cards__icons-container u-gap-1\" data-v-4054e080=\"\">\\n     <div data-v-4054e080=\"\">\\n     </div>\\n     <div class=\"u-flex u-gap-1\" data-v-4054e080=\"\">\\n      <button class=\"icon-star circle-icon circle-icon--tertiary circle-icon--border-none circle-icon--size-md p-0\" data-v-4054e080=\"\" data-v-609408f8=\"\" style=\"--hover-translate:0px;\">\\n       <svg aria-hidden=\"false\" aria-labelledby=\"js-unique-prefix-14941373\" class=\"u-top-0 svg-icon svg-icon--star-outline svg-icon--size-md\" data-v-609408f8=\"\" data-v-6e795ae8=\"\" focusable=\"false\" height=\"16\" role=\"img\" style=\"--translate:0px;--rotate:0deg;\" width=\"16\">\\n        <title data-v-6e795ae8=\"\" id=\"js-unique-prefix-14941373\">\\n         Add to watch list\\n        </title>\\n        <use data-v-6e795ae8=\"\" xlink:href=\"/_nuxt/b5ce25fe35b83b0190b41130936962f2.svg#i-star-outline\">\\n        </use>\\n       </svg>\\n      </button>\\n      <!-- -->\\n      <a class=\"u-pointer circle-icon circle-icon--tertiary circle-icon--border-none circle-icon--size-md p-0\" data-v-2b7e394c=\"\" data-v-4054e080=\"\" data-v-609408f8=\"\" href=\"#\" style=\"--hover-translate:0px;\">\\n       <svg aria-hidden=\"false\" aria-labelledby=\"js-unique-prefix-14941374\" class=\"u-top-0 svg-icon svg-icon--pencil svg-icon--size-md\" data-v-609408f8=\"\" data-v-6e795ae8=\"\" focusable=\"false\" height=\"16\" role=\"img\" style=\"--translate:0px;--rotate:0deg;\" width=\"16\">\\n        <title data-v-6e795ae8=\"\" id=\"js-unique-prefix-14941374\">\\n         Contact higher education institution\\n        </title>\\n        <use data-v-6e795ae8=\"\" xlink:href=\"/_nuxt/b5ce25fe35b83b0190b41130936962f2.svg#i-pencil\">\\n        </use>\\n       </svg>\\n      </a>\\n     </div>\\n    </div>\\n   </div>\\n   <p class=\"text-body-small\" data-v-4054e080=\"\">\\n    Technical University of Darmstadt\\n   </p>\\n   <ul class=\"cards__categories p-0\" data-v-4054e080=\"\">\\n    <li class=\"u-list-unset cards__categories-item\" data-v-4054e080=\"\">\\n     <div class=\"u-flex\" data-v-4054e080=\"\">\\n      <svg aria-hidden=\"true\" class=\"mr-1 text-grey u-top-0 u-flex-shrink-0 svg-icon svg-icon--book svg-icon--size-md\" data-v-4054e080=\"\" data-v-6e795ae8=\"\" focusable=\"false\" height=\"16\" style=\"--translate:0px;--rotate:0deg;\" width=\"16\">\\n       <!-- -->\\n       <use data-v-6e795ae8=\"\" xlink:href=\"/_nuxt/b5ce25fe35b83b0190b41130936962f2.svg#i-book\">\\n       </use>\\n      </svg>\\n      <p class=\"js-dynamic-content dynamic-content m-0 text-body-small\" data-v-4054e080=\"\">\\n       Master\\n      </p>\\n     </div>\\n    </li>\\n    <li class=\"u-list-unset cards__categories-item\" data-v-4054e080=\"\">\\n     <div class=\"u-flex\" data-v-4054e080=\"\">\\n      <svg aria-hidden=\"true\" class=\"mr-1 text-grey u-top-0 u-flex-shrink-0 svg-icon svg-icon--alarm svg-icon--size-md\" data-v-4054e080=\"\" data-v-6e795ae8=\"\" focusable=\"false\" height=\"16\" style=\"--translate:0px;--rotate:0deg;\" width=\"16\">\\n       <!-- -->\\n       <use data-v-6e795ae8=\"\" xlink:href=\"/_nuxt/b5ce25fe35b83b0190b41130936962f2.svg#i-alarm\">\\n       </use>\\n      </svg>\\n      <p class=\"js-dynamic-content dynamic-content m-0 text-body-small\" data-v-4054e080=\"\">\\n       4 semester\\n      </p>\\n     </div>\\n    </li>\\n    <li class=\"u-list-unset cards__categories-item\" data-v-4054e080=\"\">\\n     <div class=\"u-flex\" data-v-4054e080=\"\">\\n      <svg aria-hidden=\"true\" class=\"mr-1 text-grey u-top-0 u-flex-shrink-0 svg-icon svg-icon--explore svg-icon--size-md\" data-v-4054e080=\"\" data-v-6e795ae8=\"\" focusable=\"false\" height=\"16\" style=\"--translate:0px;--rotate:0deg;\" width=\"16\">\\n       <!-- -->\\n       <use data-v-6e795ae8=\"\" xlink:href=\"/_nuxt/b5ce25fe35b83b0190b41130936962f2.svg#i-explore\">\\n       </use>\\n      </svg>\\n      <p class=\"js-dynamic-content dynamic-content m-0 text-body-small\" data-v-4054e080=\"\">\\n       Darmstadt\\n      </p>\\n     </div>\\n    </li>\\n    <li class=\"u-list-unset cards__categories-item\" data-v-4054e080=\"\">\\n     <div class=\"u-flex\" data-v-4054e080=\"\">\\n      <svg aria-hidden=\"true\" class=\"mr-1 text-grey u-top-0 u-flex-shrink-0 svg-icon svg-icon--comment svg-icon--size-md\" data-v-4054e080=\"\" data-v-6e795ae8=\"\" focusable=\"false\" height=\"16\" style=\"--translate:0px;--rotate:0deg;\" width=\"16\">\\n       <!-- -->\\n       <use data-v-6e795ae8=\"\" xlink:href=\"/_nuxt/b5ce25fe35b83b0190b41130936962f2.svg#i-comment\">\\n       </use>\\n      </svg>\\n      <p class=\"js-dynamic-content dynamic-content m-0 text-body-small\" data-v-4054e080=\"\">\\n       German\\n      </p>\\n     </div>\\n    </li>\\n    <li class=\"u-list-unset cards__categories-item\" data-v-4054e080=\"\">\\n     <div class=\"u-flex\" data-v-4054e080=\"\">\\n      <svg aria-hidden=\"true\" class=\"mr-1 text-grey u-top-0 u-flex-shrink-0 svg-icon svg-icon--wallet svg-icon--size-md\" data-v-4054e080=\"\" data-v-6e795ae8=\"\" focusable=\"false\" height=\"16\" style=\"--translate:0px;--rotate:0deg;\" width=\"16\">\\n       <!-- -->\\n       <use data-v-6e795ae8=\"\" xlink:href=\"/_nuxt/b5ce25fe35b83b0190b41130936962f2.svg#i-wallet\">\\n       </use>\\n      </svg>\\n      <p class=\"js-dynamic-content dynamic-content m-0 text-body-small\" data-v-4054e080=\"\">\\n       No information\\n      </p>\\n     </div>\\n    </li>\\n    <li class=\"u-list-unset cards__categories-item\" data-v-4054e080=\"\">\\n     <div class=\"u-flex\" data-v-4054e080=\"\">\\n      <svg aria-hidden=\"true\" class=\"mr-1 text-grey u-top-0 u-flex-shrink-0 svg-icon svg-icon--stipendien svg-icon--size-md\" data-v-4054e080=\"\" data-v-6e795ae8=\"\" focusable=\"false\" height=\"16\" style=\"--translate:0px;--rotate:0deg;\" width=\"16\">\\n       <!-- -->\\n       <use data-v-6e795ae8=\"\" xlink:href=\"/_nuxt/b5ce25fe35b83b0190b41130936962f2.svg#i-stipendien\">\\n       </use>\\n      </svg>\\n      <p class=\"js-dynamic-content dynamic-content m-0 text-body-small\" data-v-4054e080=\"\">\\n      </p>\\n     </div>\\n    </li>\\n   </ul>\\n  </article>\\n </div>\\n</li>\\n'"
      ]
     },
     "execution_count": 16,
     "metadata": {},
     "output_type": "execute_result"
    }
   ],
   "source": [
    "soup.find('li',class_='qa-hsk-result-item u-list-unset mb-2').prettify().find()"
   ]
  },
  {
   "cell_type": "code",
   "execution_count": 17,
   "id": "4cf22fd4",
   "metadata": {},
   "outputs": [],
   "source": [
    "city=[]\n",
    "university=[]\n",
    "sub=[]\n",
    "period=[]\n",
    "scholarship=[]\n",
    "fee_structure=[]\n",
    "link=[]\n",
    "for i in soup.find_all('li',class_='qa-hsk-result-item u-list-unset mb-2'):\n",
    "    link.append(i.find('a').get('href'))\n",
    "    sub.append(i.find('a',class_='card-link').text)\n",
    "#     location.append(i.find('p',class_='js-dynamic-content dynamic-content m-0 text-body-small').text)\n",
    "    university.append(i.find('p',class_='text-body-small').text)\n",
    "#     period.append(i.find('p',class_='u-list-unset cards__categories-item').text)\n",
    "#     scholarship.append(i.find('p',class_='js-dynamic-content dynamic-content m-0 text-body-small').text)\n"
   ]
  },
  {
   "cell_type": "code",
   "execution_count": 23,
   "id": "aeaadb3e",
   "metadata": {},
   "outputs": [],
   "source": [
    "location=[]\n",
    "for i in soup.find_all('li',class_='qa-hsk-result-item u-list-unset mb-2'):\n",
    "    location.append(i.find('p',class_='js-dynamic-content dynamic-content m-0 text-body-small').text)"
   ]
  },
  {
   "cell_type": "code",
   "execution_count": 24,
   "id": "faa9355b",
   "metadata": {},
   "outputs": [
    {
     "data": {
      "text/plain": [
       "['Master',\n",
       " 'Master',\n",
       " 'Bachelor',\n",
       " 'Master',\n",
       " 'Bachelor',\n",
       " 'Bachelor',\n",
       " 'Master',\n",
       " 'Bachelor',\n",
       " 'Bachelor',\n",
       " 'Bachelor',\n",
       " 'Bachelor',\n",
       " 'Master',\n",
       " 'Master',\n",
       " 'Master',\n",
       " 'Extended qualification in music',\n",
       " 'Bachelor',\n",
       " 'Master',\n",
       " 'Bachelor',\n",
       " 'Master',\n",
       " 'Master']"
      ]
     },
     "execution_count": 24,
     "metadata": {},
     "output_type": "execute_result"
    }
   ],
   "source": [
    "location\n"
   ]
  },
  {
   "cell_type": "code",
   "execution_count": 38,
   "id": "c9338278",
   "metadata": {
    "scrolled": true
   },
   "outputs": [
    {
     "name": "stdout",
     "output_type": "stream",
     "text": [
      "Master4 semesterDarmstadtGermanNo information\n",
      "Master4 semesterKölnEnglishNo information\n",
      "Bachelor6 semesterMittweidaGerman97.00 EUR / semester\n",
      "Master6 semesterMünchenGerman16,200.00 EUR / total\n",
      "Bachelor7 semesterWürzburgGermanNo information\n",
      "Bachelor7 semesterPforzheimGermanNo information\n",
      "Master4 semesterStuttgartGermanNo information\n",
      "Bachelor8 semesterWeimarGermanNo information\n",
      "Bachelor8 semesterMünchenGermanNo information\n",
      "Bachelor8 semesterFreiburgGermanNo information\n",
      "Bachelor8 semesterNürnbergGermanNo information\n",
      "Master4 semesterNürnbergGermanNo information\n",
      "Master4 semesterMünchenGermanNo information\n",
      "Master4 semesterWeimarGermanNo information\n",
      "Extended qualification in music4 semesterWeimarGermanNo information\n",
      "Bachelor8 semesterWürzburgGermanNo information\n",
      "Master4 semesterWürzburgGermanNo information\n",
      "Bachelor8 semesterWürzburgGermanNo information\n",
      "Master4 semesterWürzburgGermanNo information\n",
      "Master3 semesterSaarbrückenGermanNo information\n"
     ]
    }
   ],
   "source": [
    "for i in soup.find_all('ul',class_='cards__categories p-0'):\n",
    "    print(i.text.re)"
   ]
  },
  {
   "cell_type": "code",
   "execution_count": null,
   "id": "844c0229",
   "metadata": {},
   "outputs": [],
   "source": []
  }
 ],
 "metadata": {
  "kernelspec": {
   "display_name": "Python 3 (ipykernel)",
   "language": "python",
   "name": "python3"
  },
  "language_info": {
   "codemirror_mode": {
    "name": "ipython",
    "version": 3
   },
   "file_extension": ".py",
   "mimetype": "text/x-python",
   "name": "python",
   "nbconvert_exporter": "python",
   "pygments_lexer": "ipython3",
   "version": "3.9.12"
  }
 },
 "nbformat": 4,
 "nbformat_minor": 5
}
