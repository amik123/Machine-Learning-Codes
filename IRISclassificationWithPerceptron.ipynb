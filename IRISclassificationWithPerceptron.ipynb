{
 "cells": [
  {
   "cell_type": "code",
   "execution_count": 10,
   "id": "34094e1b",
   "metadata": {},
   "outputs": [],
   "source": [
    "from sklearn import datasets\n",
    "\n",
    "iris_features, iris_classes = datasets.load_iris(return_X_y=True)\n",
    "\n",
    "X = iris_features[:100]\n",
    "\n",
    "y = iris_classes[:100]"
   ]
  },
  {
   "cell_type": "code",
   "execution_count": 11,
   "id": "a789c049",
   "metadata": {},
   "outputs": [],
   "source": [
    "import numpy as np"
   ]
  },
  {
   "cell_type": "code",
   "execution_count": 12,
   "id": "6abbbc8e",
   "metadata": {},
   "outputs": [
    {
     "data": {
      "text/plain": [
       "array([-1, -1, -1, -1, -1, -1, -1, -1, -1, -1, -1, -1, -1, -1, -1, -1, -1,\n",
       "       -1, -1, -1, -1, -1, -1, -1, -1, -1, -1, -1, -1, -1, -1, -1, -1, -1,\n",
       "       -1, -1, -1, -1, -1, -1, -1, -1, -1, -1, -1, -1, -1, -1, -1, -1,  1,\n",
       "        1,  1,  1,  1,  1,  1,  1,  1,  1,  1,  1,  1,  1,  1,  1,  1,  1,\n",
       "        1,  1,  1,  1,  1,  1,  1,  1,  1,  1,  1,  1,  1,  1,  1,  1,  1,\n",
       "        1,  1,  1,  1,  1,  1,  1,  1,  1,  1,  1,  1,  1,  1,  1])"
      ]
     },
     "execution_count": 12,
     "metadata": {},
     "output_type": "execute_result"
    }
   ],
   "source": [
    "X0 = np.ones((X.shape[0], 1))\n",
    "\n",
    "X = np.concatenate([X0, X], axis=1)\n",
    "\n",
    "y = np.array([1 if y[i] == 1 else -1 for i in range(y.shape[0])])\n",
    "\n",
    "y"
   ]
  },
  {
   "cell_type": "code",
   "execution_count": 13,
   "id": "0ac54af1",
   "metadata": {},
   "outputs": [],
   "source": [
    "from sklearn.model_selection import train_test_split\n",
    "\n",
    "X_train, X_test, y_train, y_test = train_test_split(\n",
    "    X, y, test_size=0.33, stratify=y\n",
    ")"
   ]
  },
  {
   "cell_type": "code",
   "execution_count": 14,
   "id": "9b2ff3d1",
   "metadata": {},
   "outputs": [],
   "source": [
    "def unit_step(z):\n",
    "    return 1 if z>=0 else -1"
   ]
  },
  {
   "cell_type": "code",
   "execution_count": 15,
   "id": "6e9cabf0",
   "metadata": {},
   "outputs": [],
   "source": [
    "class Perceptron:\n",
    "    def __init__(self, lr, num_iterations):\n",
    "        self.lr = lr\n",
    "        self.num_iterations = num_iterations\n",
    "        self.theta = None\n",
    "    \n",
    "    def train_model(self, X, y):\n",
    "        num_features = X.shape[1]\n",
    "        \n",
    "        self.theta = np.zeros(num_features)\n",
    "        \n",
    "        for _ in range(self.num_iterations):\n",
    "            for i in range(X.shape[0]):\n",
    "                z = np.dot(X[i], self.theta)\n",
    "                y_predicted = unit_step(z)\n",
    "                error = y[i] - y_predicted\n",
    "                \n",
    "                self.theta += self.lr * error * X[i]\n",
    "        \n",
    "    def predict(self, X):\n",
    "        z = np.dot(X, self.theta)\n",
    "        y_predicted = []\n",
    "        for i in range(X.shape[0]):\n",
    "            y_predicted.append(unit_step(z[i]))\n",
    "        return np.array(y_predicted)"
   ]
  },
  {
   "cell_type": "code",
   "execution_count": 16,
   "id": "0d2f7767",
   "metadata": {},
   "outputs": [
    {
     "name": "stdout",
     "output_type": "stream",
     "text": [
      "Accuracy = 100.0%\n"
     ]
    }
   ],
   "source": [
    "perceptron = Perceptron(lr=0.01, num_iterations=5)\n",
    "\n",
    "perceptron.train_model(X_train, y_train)\n",
    "\n",
    "y_predicted = perceptron.predict(X_test)\n",
    "\n",
    "accuracy = np.sum(y_predicted == y_test) / len(y_test)\n",
    "\n",
    "print(f\"Accuracy = {accuracy * 100}%\")"
   ]
  },
  {
   "cell_type": "code",
   "execution_count": null,
   "id": "3efd83f7",
   "metadata": {},
   "outputs": [],
   "source": []
  }
 ],
 "metadata": {
  "kernelspec": {
   "display_name": "Python 3 (ipykernel)",
   "language": "python",
   "name": "python3"
  },
  "language_info": {
   "codemirror_mode": {
    "name": "ipython",
    "version": 3
   },
   "file_extension": ".py",
   "mimetype": "text/x-python",
   "name": "python",
   "nbconvert_exporter": "python",
   "pygments_lexer": "ipython3",
   "version": "3.9.12"
  }
 },
 "nbformat": 4,
 "nbformat_minor": 5
}
